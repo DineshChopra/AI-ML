{
  "nbformat": 4,
  "nbformat_minor": 0,
  "metadata": {
    "colab": {
      "name": "3_CNN_dogs_vs_cats_without_augmentation.ipynb",
      "provenance": [],
      "authorship_tag": "ABX9TyMpyGmrI0RX4/ckt9e0FSR2",
      "include_colab_link": true
    },
    "kernelspec": {
      "name": "python3",
      "display_name": "Python 3"
    },
    "accelerator": "GPU"
  },
  "cells": [
    {
      "cell_type": "markdown",
      "metadata": {
        "id": "view-in-github",
        "colab_type": "text"
      },
      "source": [
        "<a href=\"https://colab.research.google.com/github/DineshChopra/AI-ML/blob/master/TensorFlow/3_CNN_dogs_vs_cats_without_augmentation.ipynb\" target=\"_parent\"><img src=\"https://colab.research.google.com/assets/colab-badge.svg\" alt=\"Open In Colab\"/></a>"
      ]
    },
    {
      "cell_type": "code",
      "metadata": {
        "id": "mgZCq5s9L5pK"
      },
      "source": [
        "# Import Required Packages\n",
        "\n",
        "import tensorflow as tf\n",
        "\n",
        "from tensorflow.keras.preprocessing.image import ImageDataGenerator\n",
        "\n",
        "import os\n",
        "import matplotlib.pyplot as plt\n",
        "import numpy as np\n",
        "\n"
      ],
      "execution_count": 1,
      "outputs": []
    },
    {
      "cell_type": "markdown",
      "metadata": {
        "id": "I3iHF4KqMO3E"
      },
      "source": [
        "## Data Loading"
      ]
    },
    {
      "cell_type": "code",
      "metadata": {
        "colab": {
          "base_uri": "https://localhost:8080/"
        },
        "id": "3uP6JBdrMRF1",
        "outputId": "948a3e52-c8af-403e-ba38-dc5977373644"
      },
      "source": [
        "_URL = 'https://storage.googleapis.com/mledu-datasets/cats_and_dogs_filtered.zip'\n",
        "zip_dir = tf.keras.utils.get_file('cats_and_dogs_filterted.zip', origin=_URL, extract=True)"
      ],
      "execution_count": 2,
      "outputs": [
        {
          "output_type": "stream",
          "text": [
            "Downloading data from https://storage.googleapis.com/mledu-datasets/cats_and_dogs_filtered.zip\n",
            "68608000/68606236 [==============================] - 0s 0us/step\n"
          ],
          "name": "stdout"
        }
      ]
    },
    {
      "cell_type": "code",
      "metadata": {
        "colab": {
          "base_uri": "https://localhost:8080/"
        },
        "id": "BZNS7yeIMycz",
        "outputId": "a004c55b-0358-4503-8c32-1a1925781f12"
      },
      "source": [
        "zip_dir_base = os.path.dirname(zip_dir)\n",
        "!find $zip_dir_base -type d -print"
      ],
      "execution_count": 3,
      "outputs": [
        {
          "output_type": "stream",
          "text": [
            "/root/.keras/datasets\n",
            "/root/.keras/datasets/cats_and_dogs_filtered\n",
            "/root/.keras/datasets/cats_and_dogs_filtered/validation\n",
            "/root/.keras/datasets/cats_and_dogs_filtered/validation/cats\n",
            "/root/.keras/datasets/cats_and_dogs_filtered/validation/dogs\n",
            "/root/.keras/datasets/cats_and_dogs_filtered/train\n",
            "/root/.keras/datasets/cats_and_dogs_filtered/train/cats\n",
            "/root/.keras/datasets/cats_and_dogs_filtered/train/dogs\n"
          ],
          "name": "stdout"
        }
      ]
    },
    {
      "cell_type": "markdown",
      "metadata": {
        "id": "i_2_zf4nMxvM"
      },
      "source": [
        "Assign variables with the proper file path for training and validation set"
      ]
    },
    {
      "cell_type": "code",
      "metadata": {
        "id": "xy8WVzQDM_dm"
      },
      "source": [
        "base_dir = os.path.join(os.path.dirname(zip_dir), 'cats_and_dogs_filtered')\n",
        "train_dir = os.path.join(base_dir, 'train')\n",
        "validation_dir = os.path.join(base_dir, 'validation')\n",
        "\n",
        "train_cats_dir = os.path.join(train_dir, 'cats')  # directory with our training cat pictures\n",
        "train_dogs_dir = os.path.join(train_dir, 'dogs')  # directory with our training dog pictures\n",
        "validation_cats_dir = os.path.join(validation_dir, 'cats')  # directory with our validation cat pictures\n",
        "validation_dogs_dir = os.path.join(validation_dir, 'dogs')  # directory with our validation dog pictures"
      ],
      "execution_count": 4,
      "outputs": []
    },
    {
      "cell_type": "markdown",
      "metadata": {
        "id": "6Q7gMLeyNR88"
      },
      "source": [
        "## Understanding our data"
      ]
    },
    {
      "cell_type": "code",
      "metadata": {
        "id": "K2QTUwj_NTJ7"
      },
      "source": [
        "num_cats_tr = len(os.listdir(train_cats_dir))\n",
        "num_dogs_tr = len(os.listdir(train_dogs_dir))\n",
        "\n",
        "num_cats_val = len(os.listdir(validation_cats_dir))\n",
        "num_dogs_val = len(os.listdir(validation_dogs_dir))\n",
        "\n",
        "total_train = num_cats_tr + num_dogs_tr\n",
        "total_val = num_cats_val + num_dogs_val"
      ],
      "execution_count": 5,
      "outputs": []
    },
    {
      "cell_type": "code",
      "metadata": {
        "colab": {
          "base_uri": "https://localhost:8080/"
        },
        "id": "-78klzrwNV77",
        "outputId": "a850aaad-9919-418c-cb80-a83f6645482e"
      },
      "source": [
        "print('total training cat images:', num_cats_tr)\n",
        "print('total training dog images:', num_dogs_tr)\n",
        "\n",
        "print('total validation cat images:', num_cats_val)\n",
        "print('total validation dog images:', num_dogs_val)\n",
        "print(\"--\")\n",
        "print(\"Total training images:\", total_train)\n",
        "print(\"Total validation images:\", total_val)"
      ],
      "execution_count": 6,
      "outputs": [
        {
          "output_type": "stream",
          "text": [
            "total training cat images: 1000\n",
            "total training dog images: 1000\n",
            "total validation cat images: 500\n",
            "total validation dog images: 500\n",
            "--\n",
            "Total training images: 2000\n",
            "Total validation images: 1000\n"
          ],
          "name": "stdout"
        }
      ]
    },
    {
      "cell_type": "markdown",
      "metadata": {
        "id": "Pj3Ggd7UNbZW"
      },
      "source": [
        "## Setting Model Parameters"
      ]
    },
    {
      "cell_type": "code",
      "metadata": {
        "id": "QWwU9u4aNd3b"
      },
      "source": [
        "BATCH_SIZE = 100  # Number of training examples to process before updating our models variables\n",
        "IMG_SHAPE  = 150  # Our training data consists of images with width of 150 pixels and height of 150 pixels"
      ],
      "execution_count": 7,
      "outputs": []
    },
    {
      "cell_type": "markdown",
      "metadata": {
        "id": "JPA_TqucNjnu"
      },
      "source": [
        "## Data Preperation\n",
        "Resizing Images"
      ]
    },
    {
      "cell_type": "code",
      "metadata": {
        "id": "S-t0mo3ENenB"
      },
      "source": [
        "train_image_generator      = ImageDataGenerator(rescale=1./255)  # Generator for our training data\n",
        "validation_image_generator = ImageDataGenerator(rescale=1./255)  # Generator for our validation data"
      ],
      "execution_count": 8,
      "outputs": []
    },
    {
      "cell_type": "code",
      "metadata": {
        "colab": {
          "base_uri": "https://localhost:8080/"
        },
        "id": "NYAqcGtlNxSv",
        "outputId": "116ca420-5b31-4e51-d5c2-17043792e77e"
      },
      "source": [
        "train_data_gen = train_image_generator.flow_from_directory(batch_size=BATCH_SIZE,\n",
        "                                                           directory=train_dir,\n",
        "                                                           shuffle=True,\n",
        "                                                           target_size=(IMG_SHAPE,IMG_SHAPE), #(150,150)\n",
        "                                                           class_mode='binary')"
      ],
      "execution_count": 9,
      "outputs": [
        {
          "output_type": "stream",
          "text": [
            "Found 2000 images belonging to 2 classes.\n"
          ],
          "name": "stdout"
        }
      ]
    },
    {
      "cell_type": "code",
      "metadata": {
        "colab": {
          "base_uri": "https://localhost:8080/"
        },
        "id": "FCnRXHiWN1Ky",
        "outputId": "6be2d672-62a4-4781-da20-84a0c54ff6d0"
      },
      "source": [
        "val_data_gen = validation_image_generator.flow_from_directory(batch_size=BATCH_SIZE,\n",
        "                                                              directory=validation_dir,\n",
        "                                                              shuffle=False,\n",
        "                                                              target_size=(IMG_SHAPE,IMG_SHAPE), #(150,150)\n",
        "                                                              class_mode='binary')"
      ],
      "execution_count": 10,
      "outputs": [
        {
          "output_type": "stream",
          "text": [
            "Found 1000 images belonging to 2 classes.\n"
          ],
          "name": "stdout"
        }
      ]
    },
    {
      "cell_type": "markdown",
      "metadata": {
        "id": "itQODhiKOYJ0"
      },
      "source": [
        "## Model Creation"
      ]
    },
    {
      "cell_type": "code",
      "metadata": {
        "id": "EWMXjKpmOZhw"
      },
      "source": [
        "model = tf.keras.models.Sequential([\n",
        "    tf.keras.layers.Conv2D(32, (3,3), activation='relu', input_shape=(150, 150, 3)),\n",
        "    tf.keras.layers.MaxPooling2D(2, 2),\n",
        "\n",
        "    tf.keras.layers.Conv2D(64, (3,3), activation='relu'),\n",
        "    tf.keras.layers.MaxPooling2D(2,2),\n",
        "    \n",
        "    tf.keras.layers.Conv2D(128, (3,3), activation='relu'),\n",
        "    tf.keras.layers.MaxPooling2D(2,2),\n",
        "    \n",
        "    tf.keras.layers.Conv2D(128, (3,3), activation='relu'),\n",
        "    tf.keras.layers.MaxPooling2D(2,2),\n",
        "    \n",
        "    tf.keras.layers.Flatten(),\n",
        "    tf.keras.layers.Dense(128, activation='relu'),\n",
        "    tf.keras.layers.Dense(256, activation='relu'),\n",
        "    tf.keras.layers.Dense(512, activation='relu'),\n",
        "    tf.keras.layers.Dense(2)\n",
        "])"
      ],
      "execution_count": 16,
      "outputs": []
    },
    {
      "cell_type": "markdown",
      "metadata": {
        "id": "0ypAk8WxOfPA"
      },
      "source": [
        "## Compile Model"
      ]
    },
    {
      "cell_type": "code",
      "metadata": {
        "id": "FbIwDEQtOhMU"
      },
      "source": [
        "model.compile(optimizer='adam',\n",
        "              loss=tf.keras.losses.SparseCategoricalCrossentropy(from_logits=True),\n",
        "              metrics=['accuracy'])"
      ],
      "execution_count": 17,
      "outputs": []
    },
    {
      "cell_type": "markdown",
      "metadata": {
        "id": "OlSEZ5qSOlp1"
      },
      "source": [
        "## Train Model"
      ]
    },
    {
      "cell_type": "code",
      "metadata": {
        "colab": {
          "base_uri": "https://localhost:8080/"
        },
        "id": "SRpZMEWiOnsG",
        "outputId": "38bd861d-ec62-4757-e59c-0294cefe925f"
      },
      "source": [
        "EPOCHS = 20\n",
        "history = model.fit_generator(\n",
        "    train_data_gen,\n",
        "    steps_per_epoch=int(np.ceil(total_train / float(BATCH_SIZE))),\n",
        "    epochs=EPOCHS,\n",
        "    validation_data=val_data_gen,\n",
        "    validation_steps=int(np.ceil(total_val / float(BATCH_SIZE)))\n",
        ")"
      ],
      "execution_count": 18,
      "outputs": [
        {
          "output_type": "stream",
          "text": [
            "/usr/local/lib/python3.7/dist-packages/tensorflow/python/keras/engine/training.py:1844: UserWarning: `Model.fit_generator` is deprecated and will be removed in a future version. Please use `Model.fit`, which supports generators.\n",
            "  warnings.warn('`Model.fit_generator` is deprecated and '\n"
          ],
          "name": "stderr"
        },
        {
          "output_type": "stream",
          "text": [
            "Epoch 1/20\n",
            "20/20 [==============================] - 9s 431ms/step - loss: 0.6947 - accuracy: 0.5029 - val_loss: 0.6940 - val_accuracy: 0.5000\n",
            "Epoch 2/20\n",
            "20/20 [==============================] - 8s 407ms/step - loss: 0.6916 - accuracy: 0.5142 - val_loss: 0.6791 - val_accuracy: 0.5710\n",
            "Epoch 3/20\n",
            "20/20 [==============================] - 8s 415ms/step - loss: 0.6712 - accuracy: 0.5956 - val_loss: 0.6412 - val_accuracy: 0.6350\n",
            "Epoch 4/20\n",
            "20/20 [==============================] - 8s 412ms/step - loss: 0.6269 - accuracy: 0.6503 - val_loss: 0.6379 - val_accuracy: 0.6340\n",
            "Epoch 5/20\n",
            "20/20 [==============================] - 8s 410ms/step - loss: 0.5535 - accuracy: 0.7139 - val_loss: 0.5589 - val_accuracy: 0.7180\n",
            "Epoch 6/20\n",
            "20/20 [==============================] - 8s 413ms/step - loss: 0.5117 - accuracy: 0.7560 - val_loss: 0.5882 - val_accuracy: 0.6680\n",
            "Epoch 7/20\n",
            "20/20 [==============================] - 8s 415ms/step - loss: 0.5174 - accuracy: 0.7450 - val_loss: 0.5443 - val_accuracy: 0.7350\n",
            "Epoch 8/20\n",
            "20/20 [==============================] - 8s 412ms/step - loss: 0.4036 - accuracy: 0.8132 - val_loss: 0.6000 - val_accuracy: 0.7470\n",
            "Epoch 9/20\n",
            "20/20 [==============================] - 8s 416ms/step - loss: 0.3158 - accuracy: 0.8667 - val_loss: 0.5869 - val_accuracy: 0.7520\n",
            "Epoch 10/20\n",
            "20/20 [==============================] - 8s 418ms/step - loss: 0.2624 - accuracy: 0.8878 - val_loss: 0.6006 - val_accuracy: 0.7520\n",
            "Epoch 11/20\n",
            "20/20 [==============================] - 8s 414ms/step - loss: 0.1965 - accuracy: 0.9252 - val_loss: 0.7904 - val_accuracy: 0.7390\n",
            "Epoch 12/20\n",
            "20/20 [==============================] - 8s 412ms/step - loss: 0.1506 - accuracy: 0.9357 - val_loss: 0.7937 - val_accuracy: 0.7320\n",
            "Epoch 13/20\n",
            "20/20 [==============================] - 8s 412ms/step - loss: 0.1223 - accuracy: 0.9512 - val_loss: 0.9007 - val_accuracy: 0.7590\n",
            "Epoch 14/20\n",
            "20/20 [==============================] - 8s 413ms/step - loss: 0.0728 - accuracy: 0.9746 - val_loss: 1.1581 - val_accuracy: 0.7290\n",
            "Epoch 15/20\n",
            "20/20 [==============================] - 8s 411ms/step - loss: 0.1109 - accuracy: 0.9624 - val_loss: 1.0670 - val_accuracy: 0.7560\n",
            "Epoch 16/20\n",
            "20/20 [==============================] - 8s 414ms/step - loss: 0.0415 - accuracy: 0.9857 - val_loss: 1.3589 - val_accuracy: 0.7080\n",
            "Epoch 17/20\n",
            "20/20 [==============================] - 8s 414ms/step - loss: 0.0735 - accuracy: 0.9673 - val_loss: 1.1072 - val_accuracy: 0.7450\n",
            "Epoch 18/20\n",
            "20/20 [==============================] - 8s 412ms/step - loss: 0.0337 - accuracy: 0.9885 - val_loss: 1.2723 - val_accuracy: 0.7660\n",
            "Epoch 19/20\n",
            "20/20 [==============================] - 8s 416ms/step - loss: 0.0262 - accuracy: 0.9891 - val_loss: 1.4104 - val_accuracy: 0.7480\n",
            "Epoch 20/20\n",
            "20/20 [==============================] - 8s 416ms/step - loss: 0.0318 - accuracy: 0.9906 - val_loss: 1.2452 - val_accuracy: 0.7390\n"
          ],
          "name": "stdout"
        }
      ]
    },
    {
      "cell_type": "markdown",
      "metadata": {
        "id": "btrz3aOROuta"
      },
      "source": [
        "## Visualizing Results"
      ]
    },
    {
      "cell_type": "code",
      "metadata": {
        "colab": {
          "base_uri": "https://localhost:8080/",
          "height": 499
        },
        "id": "onKLkVlOOw-P",
        "outputId": "2682fdab-afcc-4179-ad9a-f3bedce80ec4"
      },
      "source": [
        "acc = history.history['accuracy']\n",
        "val_acc = history.history['val_accuracy']\n",
        "\n",
        "loss = history.history['loss']\n",
        "val_loss = history.history['val_loss']\n",
        "\n",
        "epochs_range = range(EPOCHS)\n",
        "\n",
        "plt.figure(figsize=(8, 8))\n",
        "plt.subplot(1, 2, 1)\n",
        "plt.plot(epochs_range, acc, label='Training Accuracy')\n",
        "plt.plot(epochs_range, val_acc, label='Validation Accuracy')\n",
        "plt.legend(loc='lower right')\n",
        "plt.title('Training and Validation Accuracy')\n",
        "\n",
        "plt.subplot(1, 2, 2)\n",
        "plt.plot(epochs_range, loss, label='Training Loss')\n",
        "plt.plot(epochs_range, val_loss, label='Validation Loss')\n",
        "plt.legend(loc='upper right')\n",
        "plt.title('Training and Validation Loss')\n",
        "plt.savefig('./foo.png')\n",
        "plt.show()"
      ],
      "execution_count": 19,
      "outputs": [
        {
          "output_type": "display_data",
          "data": {
            "image/png": "[encoded data removed]",
            "text/plain": [
              "<Figure size 576x576 with 2 Axes>"
            ]
          },
          "metadata": {
            "tags": [],
            "needs_background": "light"
          }
        }
      ]
    }
  ]
}