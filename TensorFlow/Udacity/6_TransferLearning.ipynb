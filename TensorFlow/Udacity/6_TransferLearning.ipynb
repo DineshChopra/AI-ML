{
  "nbformat": 4,
  "nbformat_minor": 0,
  "metadata": {
    "colab": {
      "name": "6_TransferLearning.ipynb",
      "provenance": [],
      "authorship_tag": "ABX9TyNDr667Oylmqm1YRlTKffby",
      "include_colab_link": true
    },
    "kernelspec": {
      "name": "python3",
      "display_name": "Python 3"
    }
  },
  "cells": [
    {
      "cell_type": "markdown",
      "metadata": {
        "id": "view-in-github",
        "colab_type": "text"
      },
      "source": [
        "<a href=\"https://colab.research.google.com/github/DineshChopra/AI-ML/blob/master/TensorFlow/Udacity/6_TransferLearning.ipynb\" target=\"_parent\"><img src=\"https://colab.research.google.com/assets/colab-badge.svg\" alt=\"Open In Colab\"/></a>"
      ]
    },
    {
      "cell_type": "markdown",
      "metadata": {
        "id": "yWIDRD6Gv7WL"
      },
      "source": [
        "TensorFlow Hub and Transfer Learning"
      ]
    },
    {
      "cell_type": "code",
      "metadata": {
        "id": "K9YzFe88bmIS"
      },
      "source": [
        ""
      ],
      "execution_count": null,
      "outputs": []
    }
  ]
}