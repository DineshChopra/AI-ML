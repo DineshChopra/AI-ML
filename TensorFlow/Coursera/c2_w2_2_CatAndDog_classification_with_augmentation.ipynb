{
  "nbformat": 4,
  "nbformat_minor": 0,
  "metadata": {
    "colab": {
      "name": "c2_w2_2_CatAndDog_classification_with_augmentation.ipynb",
      "provenance": [],
      "collapsed_sections": [],
      "authorship_tag": "ABX9TyNrlAPtaT9jxym3QYAV+6xs",
      "include_colab_link": true
    },
    "kernelspec": {
      "name": "python3",
      "display_name": "Python 3"
    },
    "language_info": {
      "name": "python"
    },
    "accelerator": "GPU"
  },
  "cells": [
    {
      "cell_type": "markdown",
      "metadata": {
        "id": "view-in-github",
        "colab_type": "text"
      },
      "source": [
        "<a href=\"https://colab.research.google.com/github/DineshChopra/AI-ML/blob/master/TensorFlow/Coursera/c2_w2_2_CatAndDog_classification_with_augmentation.ipynb\" target=\"_parent\"><img src=\"https://colab.research.google.com/assets/colab-badge.svg\" alt=\"Open In Colab\"/></a>"
      ]
    },
    {
      "cell_type": "code",
      "metadata": {
        "id": "2QCAfu9U3Mkb"
      },
      "source": [
        "# Setup\n",
        "\n",
        "import os\n",
        "import zipfile\n",
        "import random\n",
        "import tensorflow as tf\n",
        "\n",
        "from tensorflow.keras.optimizers import RMSprop\n",
        "from tensorflow.keras.preprocessing.image import ImageDataGenerator\n",
        "from shutil import copyfile"
      ],
      "execution_count": 5,
      "outputs": []
    },
    {
      "cell_type": "code",
      "metadata": {
        "colab": {
          "base_uri": "https://localhost:8080/"
        },
        "id": "VbP7cMNd4RIA",
        "outputId": "e8f632ad-60e2-4ad3-d88c-0436462076af"
      },
      "source": [
        "# Download dataset\n",
        "\n",
        "!wget --no-check-certificate \\\n",
        "    \"https://download.microsoft.com/download/3/E/1/3E1C3F21-ECDB-4869-8368-6DEBA77B919F/kagglecatsanddogs_3367a.zip\" \\\n",
        "    -O \"/tmp/cats-and-dogs.zip\"\n",
        "\n",
        "local_zip = '/tmp/cats-and-dogs.zip'\n",
        "zip_ref = zipfile.ZipFile(local_zip, 'r')\n",
        "zip_ref.extractall('/tmp')\n",
        "zip_ref.close()"
      ],
      "execution_count": 6,
      "outputs": [
        {
          "output_type": "stream",
          "text": [
            "--2021-04-26 04:18:35--  https://download.microsoft.com/download/3/E/1/3E1C3F21-ECDB-4869-8368-6DEBA77B919F/kagglecatsanddogs_3367a.zip\n",
            "Resolving download.microsoft.com (download.microsoft.com)... 23.54.48.114, 2600:1409:d000:58f::e59, 2600:1409:d000:591::e59, ...\n",
            "Connecting to download.microsoft.com (download.microsoft.com)|23.54.48.114|:443... connected.\n",
            "HTTP request sent, awaiting response... 200 OK\n",
            "Length: 824894548 (787M) [application/octet-stream]\n",
            "Saving to: ‘/tmp/cats-and-dogs.zip’\n",
            "\n",
            "/tmp/cats-and-dogs. 100%[===================>] 786.68M   150MB/s    in 5.4s    \n",
            "\n",
            "2021-04-26 04:18:41 (146 MB/s) - ‘/tmp/cats-and-dogs.zip’ saved [824894548/824894548]\n",
            "\n"
          ],
          "name": "stdout"
        }
      ]
    },
    {
      "cell_type": "code",
      "metadata": {
        "colab": {
          "base_uri": "https://localhost:8080/"
        },
        "id": "bu2s2OA-439W",
        "outputId": "98737ab5-a28f-44bf-ba09-920fc598e809"
      },
      "source": [
        "print(len(os.listdir('/tmp/PetImages/Cat')))\n",
        "print(len(os.listdir('/tmp/PetImages/Dog')))"
      ],
      "execution_count": 7,
      "outputs": [
        {
          "output_type": "stream",
          "text": [
            "12501\n",
            "12501\n"
          ],
          "name": "stdout"
        }
      ]
    },
    {
      "cell_type": "code",
      "metadata": {
        "id": "AkKvCoGX5f6z"
      },
      "source": [
        "# /tmp/cats-and-dogs\n",
        "\n",
        "# os.mkdir\n",
        "data_dir = '/tmp/cats-and-dogs'\n",
        "training_dir = '/tmp/cats-and-dogs/training'\n",
        "training_cats_dir = '/tmp/cats-and-dogs/training/cats/'\n",
        "training_dogs_dir = '/tmp/cats-and-dogs/training/dogs/'\n",
        "\n",
        "validation_dir = '/tmp/cats-and-dogs/validation'\n",
        "validation_cats_dir = '/tmp/cats-and-dogs/validation/cats/'\n",
        "validation_dogs_dir = '/tmp/cats-and-dogs/validation/dogs/'\n",
        "try:\n",
        "    os.mkdir(data_dir)\n",
        "    os.mkdir(training_dir)\n",
        "    os.mkdir(training_cats_dir)\n",
        "    os.mkdir(training_dogs_dir)\n",
        "    \n",
        "    os.mkdir(validation_dir)\n",
        "    os.mkdir(validation_cats_dir)\n",
        "    os.mkdir(validation_dogs_dir)\n",
        "except OSError:\n",
        "    pass"
      ],
      "execution_count": 8,
      "outputs": []
    },
    {
      "cell_type": "code",
      "metadata": {
        "id": "2-CN10KL7MKy"
      },
      "source": [
        "def split_data(SOURCE, TRAINING, TESTING, SPLIT_SIZE):\n",
        "  print('SOURCE : ', SOURCE)\n",
        "  print('TRAINING : ', TRAINING)\n",
        "  print('TESTING : ', TESTING)\n",
        "  dataset = []\n",
        "  for unitdata in os.listdir(SOURCE):\n",
        "    path = SOURCE + unitdata\n",
        "    # print('path : ', path)\n",
        "    if os.path.getsize(SOURCE + unitdata) > 0:\n",
        "      dataset.append(unitdata)\n",
        "    else:\n",
        "      print('Skipping file as size is 0', unitdata)\n",
        "\n",
        "  # Shuffle files\n",
        "  random.sample(dataset, len(dataset))\n",
        "\n",
        "  # Split training and testing data\n",
        "  total_count = len(dataset)\n",
        "  training_count = int(total_count * SPLIT_SIZE)\n",
        "  validation_count = total_count - training_count\n",
        "\n",
        "  training_dataset = dataset[0:training_count]\n",
        "  validation_dataset = dataset[-validation_count:]\n",
        "\n",
        "  for unitdata in training_dataset:\n",
        "    source = SOURCE + unitdata\n",
        "    destination = TRAINING + unitdata\n",
        "    copyfile(source, destination)\n",
        "\n",
        "  for unitdata in validation_dataset:\n",
        "    source = SOURCE + unitdata\n",
        "    destination = TESTING + unitdata\n",
        "    copyfile(source, destination)\n"
      ],
      "execution_count": 9,
      "outputs": []
    },
    {
      "cell_type": "code",
      "metadata": {
        "id": "hFrtWgFA8frQ"
      },
      "source": [
        "CAT_SOURCE_DIR = '/tmp/PetImages/Cat/'\n",
        "DOG_SOURCE_DIR = '/tmp/PetImages/Dog/'"
      ],
      "execution_count": 10,
      "outputs": []
    },
    {
      "cell_type": "code",
      "metadata": {
        "colab": {
          "base_uri": "https://localhost:8080/"
        },
        "id": "14mINToL8LDH",
        "outputId": "92af3c3f-b28f-4487-b03b-b0627d9cf642"
      },
      "source": [
        "split_size = .9\n",
        "split_data(CAT_SOURCE_DIR, training_cats_dir, validation_cats_dir, split_size)\n",
        "split_data(DOG_SOURCE_DIR, training_dogs_dir, validation_dogs_dir, split_size)"
      ],
      "execution_count": 11,
      "outputs": [
        {
          "output_type": "stream",
          "text": [
            "SOURCE :  /tmp/PetImages/Cat/\n",
            "TRAINING :  /tmp/cats-and-dogs/training/cats/\n",
            "TESTING :  /tmp/cats-and-dogs/validation/cats/\n",
            "Skipping file as size is 0 666.jpg\n",
            "SOURCE :  /tmp/PetImages/Dog/\n",
            "TRAINING :  /tmp/cats-and-dogs/training/dogs/\n",
            "TESTING :  /tmp/cats-and-dogs/validation/dogs/\n",
            "Skipping file as size is 0 11702.jpg\n"
          ],
          "name": "stdout"
        }
      ]
    },
    {
      "cell_type": "code",
      "metadata": {
        "colab": {
          "base_uri": "https://localhost:8080/"
        },
        "id": "G0JvTWZT_DGa",
        "outputId": "a213f3ea-77a6-46f7-f079-779e784de5ec"
      },
      "source": [
        "print('training_cats_dir : ',len(os.listdir(training_cats_dir)))\n",
        "print('training_dogs_dir : ',len(os.listdir(training_dogs_dir)))\n",
        "print('validation_cats_dir : ',len(os.listdir(validation_cats_dir)))\n",
        "print('validation_dogs_dir : ',len(os.listdir(validation_dogs_dir)))"
      ],
      "execution_count": 12,
      "outputs": [
        {
          "output_type": "stream",
          "text": [
            "training_cats_dir :  11250\n",
            "training_dogs_dir :  11250\n",
            "validation_cats_dir :  1250\n",
            "validation_dogs_dir :  1250\n"
          ],
          "name": "stdout"
        }
      ]
    },
    {
      "cell_type": "code",
      "metadata": {
        "id": "FS_9usqMBGQi"
      },
      "source": [
        "# Create Model\n",
        "\n",
        "model = tf.keras.models.Sequential([\n",
        "  tf.keras.layers.Conv2D(32, (3,3), activation='relu', input_shape=(150, 150, 3)),\n",
        "  tf.keras.layers.MaxPooling2D(2, 2),\n",
        "  tf.keras.layers.Conv2D(64, (3,3), activation='relu'),\n",
        "  tf.keras.layers.MaxPooling2D(2, 2),\n",
        "  tf.keras.layers.Conv2D(128, (3,3), activation='relu'),\n",
        "  tf.keras.layers.MaxPooling2D(2, 2),\n",
        "  tf.keras.layers.Flatten(),\n",
        "  tf.keras.layers.Dense(128, activation='relu'),\n",
        "  tf.keras.layers.Dense(1, activation='sigmoid')\n",
        "])\n",
        "\n",
        "# Compile Model\n",
        "model.compile(optimizer=RMSprop(lr=0.001), loss='binary_crossentropy', metrics=['accuracy'])"
      ],
      "execution_count": 13,
      "outputs": []
    },
    {
      "cell_type": "code",
      "metadata": {
        "colab": {
          "base_uri": "https://localhost:8080/"
        },
        "id": "hu_hy8z4ZkNf",
        "outputId": "8a4e07f3-a875-49c9-acbb-4464ccf764ab"
      },
      "source": [
        "model.summary()"
      ],
      "execution_count": 14,
      "outputs": [
        {
          "output_type": "stream",
          "text": [
            "Model: \"sequential_1\"\n",
            "_________________________________________________________________\n",
            "Layer (type)                 Output Shape              Param #   \n",
            "=================================================================\n",
            "conv2d_3 (Conv2D)            (None, 148, 148, 32)      896       \n",
            "_________________________________________________________________\n",
            "max_pooling2d_3 (MaxPooling2 (None, 74, 74, 32)        0         \n",
            "_________________________________________________________________\n",
            "conv2d_4 (Conv2D)            (None, 72, 72, 64)        18496     \n",
            "_________________________________________________________________\n",
            "max_pooling2d_4 (MaxPooling2 (None, 36, 36, 64)        0         \n",
            "_________________________________________________________________\n",
            "conv2d_5 (Conv2D)            (None, 34, 34, 128)       73856     \n",
            "_________________________________________________________________\n",
            "max_pooling2d_5 (MaxPooling2 (None, 17, 17, 128)       0         \n",
            "_________________________________________________________________\n",
            "flatten_1 (Flatten)          (None, 36992)             0         \n",
            "_________________________________________________________________\n",
            "dense_2 (Dense)              (None, 128)               4735104   \n",
            "_________________________________________________________________\n",
            "dense_3 (Dense)              (None, 1)                 129       \n",
            "=================================================================\n",
            "Total params: 4,828,481\n",
            "Trainable params: 4,828,481\n",
            "Non-trainable params: 0\n",
            "_________________________________________________________________\n"
          ],
          "name": "stdout"
        }
      ]
    },
    {
      "cell_type": "code",
      "metadata": {
        "colab": {
          "base_uri": "https://localhost:8080/"
        },
        "id": "l-tUDi4Gwnpm",
        "outputId": "df039c91-cebe-4b7c-bb00-88276c23d22b"
      },
      "source": [
        "# training_dir validation_dir\n",
        "TRAINING_DIR = training_dir\n",
        "train_datagen = ImageDataGenerator(rescale=1.0/255.0,\n",
        "                                   rotation_range=40,\n",
        "                                   width_shift_range=0.2,\n",
        "                                   height_shift_range=0.2,\n",
        "                                   zoom_range=0.3,\n",
        "                                   fill_mode='nearest',\n",
        "                                   horizontal_flip=True,)\n",
        "train_generator = train_datagen.flow_from_directory(\n",
        "  TRAINING_DIR,\n",
        "  target_size = (150, 150),\n",
        "  batch_size = 100,\n",
        "  class_mode = \"binary\",  \n",
        ")\n",
        "\n",
        "VALIDATION_DIR = validation_dir\n",
        "validation_datagen = ImageDataGenerator(rescale=1.0/255.0,\n",
        "                                   rotation_range=40,\n",
        "                                   width_shift_range=0.2,\n",
        "                                   height_shift_range=0.2,\n",
        "                                   zoom_range=0.3,\n",
        "                                   fill_mode='nearest',\n",
        "                                   horizontal_flip=True,)\n",
        "validation_generator = validation_datagen.flow_from_directory(\n",
        "  VALIDATION_DIR,\n",
        "  target_size = (150, 150),\n",
        "  batch_size = 100,\n",
        "  class_mode = \"binary\",  \n",
        ")\n",
        "\n"
      ],
      "execution_count": 15,
      "outputs": [
        {
          "output_type": "stream",
          "text": [
            "Found 22498 images belonging to 2 classes.\n",
            "Found 2500 images belonging to 2 classes.\n"
          ],
          "name": "stdout"
        }
      ]
    },
    {
      "cell_type": "code",
      "metadata": {
        "colab": {
          "base_uri": "https://localhost:8080/"
        },
        "id": "HaFIItZPyaZF",
        "outputId": "5e4ba494-2e10-48e0-a376-e386dbf32cec"
      },
      "source": [
        "history = model.fit_generator(\n",
        "    train_generator,\n",
        "    steps_per_epoch=224,\n",
        "    epochs=10,\n",
        "    verbose=1,\n",
        "    validation_data = validation_generator,\n",
        "    validation_steps=25\n",
        ")"
      ],
      "execution_count": 16,
      "outputs": [
        {
          "output_type": "stream",
          "text": [
            "/usr/local/lib/python3.7/dist-packages/tensorflow/python/keras/engine/training.py:1844: UserWarning: `Model.fit_generator` is deprecated and will be removed in a future version. Please use `Model.fit`, which supports generators.\n",
            "  warnings.warn('`Model.fit_generator` is deprecated and '\n"
          ],
          "name": "stderr"
        },
        {
          "output_type": "stream",
          "text": [
            "Epoch 1/10\n"
          ],
          "name": "stdout"
        },
        {
          "output_type": "stream",
          "text": [
            "/usr/local/lib/python3.7/dist-packages/PIL/TiffImagePlugin.py:770: UserWarning: Possibly corrupt EXIF data.  Expecting to read 32 bytes but only got 0. Skipping tag 270\n",
            "  \" Skipping tag %s\" % (size, len(data), tag)\n",
            "/usr/local/lib/python3.7/dist-packages/PIL/TiffImagePlugin.py:770: UserWarning: Possibly corrupt EXIF data.  Expecting to read 5 bytes but only got 0. Skipping tag 271\n",
            "  \" Skipping tag %s\" % (size, len(data), tag)\n",
            "/usr/local/lib/python3.7/dist-packages/PIL/TiffImagePlugin.py:770: UserWarning: Possibly corrupt EXIF data.  Expecting to read 8 bytes but only got 0. Skipping tag 272\n",
            "  \" Skipping tag %s\" % (size, len(data), tag)\n",
            "/usr/local/lib/python3.7/dist-packages/PIL/TiffImagePlugin.py:770: UserWarning: Possibly corrupt EXIF data.  Expecting to read 8 bytes but only got 0. Skipping tag 282\n",
            "  \" Skipping tag %s\" % (size, len(data), tag)\n",
            "/usr/local/lib/python3.7/dist-packages/PIL/TiffImagePlugin.py:770: UserWarning: Possibly corrupt EXIF data.  Expecting to read 8 bytes but only got 0. Skipping tag 283\n",
            "  \" Skipping tag %s\" % (size, len(data), tag)\n",
            "/usr/local/lib/python3.7/dist-packages/PIL/TiffImagePlugin.py:770: UserWarning: Possibly corrupt EXIF data.  Expecting to read 20 bytes but only got 0. Skipping tag 306\n",
            "  \" Skipping tag %s\" % (size, len(data), tag)\n",
            "/usr/local/lib/python3.7/dist-packages/PIL/TiffImagePlugin.py:770: UserWarning: Possibly corrupt EXIF data.  Expecting to read 48 bytes but only got 0. Skipping tag 532\n",
            "  \" Skipping tag %s\" % (size, len(data), tag)\n",
            "/usr/local/lib/python3.7/dist-packages/PIL/TiffImagePlugin.py:788: UserWarning: Corrupt EXIF data.  Expecting to read 2 bytes but only got 0. \n",
            "  warnings.warn(str(msg))\n"
          ],
          "name": "stderr"
        },
        {
          "output_type": "stream",
          "text": [
            "224/224 [==============================] - 192s 798ms/step - loss: 0.9250 - accuracy: 0.5436 - val_loss: 0.6414 - val_accuracy: 0.6460\n",
            "Epoch 2/10\n",
            "224/224 [==============================] - 176s 785ms/step - loss: 0.6447 - accuracy: 0.6368 - val_loss: 0.5940 - val_accuracy: 0.6760\n",
            "Epoch 3/10\n",
            "224/224 [==============================] - 175s 779ms/step - loss: 0.5948 - accuracy: 0.6740 - val_loss: 0.5479 - val_accuracy: 0.7208\n",
            "Epoch 4/10\n",
            "224/224 [==============================] - 173s 774ms/step - loss: 0.5696 - accuracy: 0.7079 - val_loss: 0.5751 - val_accuracy: 0.7012\n",
            "Epoch 5/10\n",
            "224/224 [==============================] - 174s 775ms/step - loss: 0.5478 - accuracy: 0.7227 - val_loss: 0.5088 - val_accuracy: 0.7436\n",
            "Epoch 6/10\n",
            "224/224 [==============================] - 173s 772ms/step - loss: 0.5376 - accuracy: 0.7328 - val_loss: 0.4918 - val_accuracy: 0.7488\n",
            "Epoch 7/10\n",
            "224/224 [==============================] - 173s 771ms/step - loss: 0.5199 - accuracy: 0.7394 - val_loss: 0.4658 - val_accuracy: 0.7832\n",
            "Epoch 8/10\n",
            "224/224 [==============================] - 173s 771ms/step - loss: 0.5006 - accuracy: 0.7586 - val_loss: 0.4599 - val_accuracy: 0.7860\n",
            "Epoch 9/10\n",
            "224/224 [==============================] - 170s 760ms/step - loss: 0.4821 - accuracy: 0.7655 - val_loss: 0.4969 - val_accuracy: 0.7784\n",
            "Epoch 10/10\n",
            "224/224 [==============================] - 170s 760ms/step - loss: 0.4750 - accuracy: 0.7737 - val_loss: 0.4440 - val_accuracy: 0.7848\n"
          ],
          "name": "stdout"
        }
      ]
    },
    {
      "cell_type": "code",
      "metadata": {
        "id": "_MKL-t7uzl8Q"
      },
      "source": [
        "acc = history.history['accuracy']\n",
        "val_acc = history.history['val_accuracy']\n",
        "\n",
        "loss = history.history['loss']\n",
        "val_loss = history.history['val_loss']\n",
        "\n",
        "epochs = range(len(acc))"
      ],
      "execution_count": 17,
      "outputs": []
    },
    {
      "cell_type": "code",
      "metadata": {
        "colab": {
          "base_uri": "https://localhost:8080/",
          "height": 579
        },
        "id": "ntlWwG_D0F4a",
        "outputId": "c0b39abc-2eb3-41df-fdfe-05944cdbf32f"
      },
      "source": [
        "import matplotlib.image as mpimg\n",
        "import matplotlib.pyplot as plt\n",
        "\n",
        "plt.plot(epochs, acc, 'r', 'Training Accuracy')\n",
        "plt.plot(epochs, val_acc, 'b', 'Validatino Accuracy')\n",
        "plt.title('Training and Validation accuracy')\n",
        "plt.figure()\n",
        "\n",
        "plt.plot(epochs, loss, 'r', 'Training Loss')\n",
        "plt.plot(epochs, val_loss, 'b', 'Validation Loss')\n",
        "plt.title('Training and Validation loss')\n",
        "plt.figure()"
      ],
      "execution_count": 18,
      "outputs": [
        {
          "output_type": "execute_result",
          "data": {
            "text/plain": [
              "<Figure size 432x288 with 0 Axes>"
            ]
          },
          "metadata": {
            "tags": []
          },
          "execution_count": 18
        },
        {
          "output_type": "display_data",
          "data": {
            "image/png": "[encoded data removed]",
            "text/plain": [
              "<Figure size 432x288 with 1 Axes>"
            ]
          },
          "metadata": {
            "tags": [],
            "needs_background": "light"
          }
        },
        {
          "output_type": "display_data",
          "data": {
            "image/png": "[encoded data removed]",
            "text/plain": [
              "<Figure size 432x288 with 1 Axes>"
            ]
          },
          "metadata": {
            "tags": [],
            "needs_background": "light"
          }
        },
        {
          "output_type": "display_data",
          "data": {
            "text/plain": [
              "<Figure size 432x288 with 0 Axes>"
            ]
          },
          "metadata": {
            "tags": []
          }
        }
      ]
    },
    {
      "cell_type": "code",
      "metadata": {
        "id": "tPCAwK-Z6-uh"
      },
      "source": [
        "# Here's a codeblock just for fun. You should be able to upload an image here \n",
        "# and have it classified without crashing\n",
        "\n",
        "import numpy as np\n",
        "from google.colab import files\n",
        "from keras.preprocessing import image\n",
        "\n",
        "# uploaded = files.upload()\n",
        "\n",
        "# for fn in uploaded.keys():\n",
        " \n",
        "#   # predicting images\n",
        "#   path = '/content/' + fn\n",
        "#   img = image.load_img(path, target_size=(# YOUR CODE HERE))\n",
        "#   x = image.img_to_array(img)\n",
        "#   x = np.expand_dims(x, axis=0)\n",
        "\n",
        "#   images = np.vstack([x])\n",
        "#   classes = model.predict(images, batch_size=10)\n",
        "#   print(classes[0])\n",
        "#   if classes[0]>0.5:\n",
        "#     print(fn + \" is a dog\")\n",
        "#   else:\n",
        "#     print(fn + \" is a cat\")"
      ],
      "execution_count": 19,
      "outputs": []
    }
  ]
}